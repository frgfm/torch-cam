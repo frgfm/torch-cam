{
  "nbformat": 4,
  "nbformat_minor": 0,
  "metadata": {
    "colab": {
      "name": "TorchCAM - Latency benchmark.ipynb",
      "provenance": []
    },
    "kernelspec": {
      "name": "python3",
      "display_name": "Python 3"
    },
    "language_info": {
      "name": "python"
    }
  },
  "cells": [
    {
      "cell_type": "markdown",
      "metadata": {
        "id": "GHbltZUohNM8"
      },
      "source": [
        "# Installation\n",
        "\n",
        "In this tutorial, you will need the entire project codebase. So first, we clone the project's GitHub repository and install from source.\n"
      ]
    },
    {
      "cell_type": "code",
      "metadata": {
        "colab": {
          "base_uri": "https://localhost:8080/",
          "height": 615
        },
        "id": "h10zMBPWhHz0",
        "outputId": "438f0bdd-d234-4d54-c7b9-c19ce1cf7eba"
      },
      "source": [
        "!git clone https://github.com/frgfm/torch-cam.git\n",
        "!pip install -e torch-cam/."
      ],
      "execution_count": 1,
      "outputs": [
        {
          "output_type": "stream",
          "name": "stdout",
          "text": [
            "Cloning into 'torch-cam'...\n",
            "remote: Enumerating objects: 3359, done.\u001b[K\n",
            "remote: Counting objects: 100% (905/905), done.\u001b[K\n",
            "remote: Compressing objects: 100% (434/434), done.\u001b[K\n",
            "remote: Total 3359 (delta 621), reused 713 (delta 471), pack-reused 2454\u001b[K\n",
            "Receiving objects: 100% (3359/3359), 8.19 MiB | 20.21 MiB/s, done.\n",
            "Resolving deltas: 100% (2250/2250), done.\n",
            "Obtaining file:///content/torch-cam\n",
            "Requirement already satisfied: torch>=1.5.1 in /usr/local/lib/python3.7/dist-packages (from torchcam==0.2.1a0+a40ec75) (1.9.0+cu111)\n",
            "Requirement already satisfied: numpy>=1.14.0 in /usr/local/lib/python3.7/dist-packages (from torchcam==0.2.1a0+a40ec75) (1.19.5)\n",
            "Collecting pillow>=8.3.2\n",
            "  Downloading Pillow-8.4.0-cp37-cp37m-manylinux_2_17_x86_64.manylinux2014_x86_64.whl (3.1 MB)\n",
            "\u001b[K     |████████████████████████████████| 3.1 MB 16.3 MB/s \n",
            "\u001b[?25hRequirement already satisfied: matplotlib>=3.0.0 in /usr/local/lib/python3.7/dist-packages (from torchcam==0.2.1a0+a40ec75) (3.2.2)\n",
            "Requirement already satisfied: python-dateutil>=2.1 in /usr/local/lib/python3.7/dist-packages (from matplotlib>=3.0.0->torchcam==0.2.1a0+a40ec75) (2.8.2)\n",
            "Requirement already satisfied: cycler>=0.10 in /usr/local/lib/python3.7/dist-packages (from matplotlib>=3.0.0->torchcam==0.2.1a0+a40ec75) (0.10.0)\n",
            "Requirement already satisfied: pyparsing!=2.0.4,!=2.1.2,!=2.1.6,>=2.0.1 in /usr/local/lib/python3.7/dist-packages (from matplotlib>=3.0.0->torchcam==0.2.1a0+a40ec75) (2.4.7)\n",
            "Requirement already satisfied: kiwisolver>=1.0.1 in /usr/local/lib/python3.7/dist-packages (from matplotlib>=3.0.0->torchcam==0.2.1a0+a40ec75) (1.3.2)\n",
            "Requirement already satisfied: six in /usr/local/lib/python3.7/dist-packages (from cycler>=0.10->matplotlib>=3.0.0->torchcam==0.2.1a0+a40ec75) (1.15.0)\n",
            "Requirement already satisfied: typing-extensions in /usr/local/lib/python3.7/dist-packages (from torch>=1.5.1->torchcam==0.2.1a0+a40ec75) (3.7.4.3)\n",
            "Installing collected packages: pillow, torchcam\n",
            "  Attempting uninstall: pillow\n",
            "    Found existing installation: Pillow 7.1.2\n",
            "    Uninstalling Pillow-7.1.2:\n",
            "      Successfully uninstalled Pillow-7.1.2\n",
            "  Running setup.py develop for torchcam\n",
            "\u001b[31mERROR: pip's dependency resolver does not currently take into account all the packages that are installed. This behaviour is the source of the following dependency conflicts.\n",
            "albumentations 0.1.12 requires imgaug<0.2.7,>=0.2.5, but you have imgaug 0.2.9 which is incompatible.\u001b[0m\n",
            "Successfully installed pillow-8.4.0 torchcam-0.2.1a0+a40ec75\n"
          ]
        },
        {
          "output_type": "display_data",
          "data": {
            "application/vnd.colab-display-data+json": {
              "pip_warning": {
                "packages": [
                  "PIL"
                ]
              }
            }
          },
          "metadata": {}
        }
      ]
    },
    {
      "cell_type": "markdown",
      "metadata": {
        "id": "03SV_5l0jAtl"
      },
      "source": [
        "# Hardware information"
      ]
    },
    {
      "cell_type": "markdown",
      "metadata": {
        "id": "jVjeyZCrjGxK"
      },
      "source": [
        "## GPU information\n",
        "To be able to run the benchmark on GPU, you need to have the correct driver and CUDA installation. If you get a message starting with:\n",
        "> NVIDIA-SMI has failed...\n",
        "\n",
        "The script will be running on CPU as PyTorch isn't able to access any CUDA-capable device.\n"
      ]
    },
    {
      "cell_type": "code",
      "metadata": {
        "colab": {
          "base_uri": "https://localhost:8080/"
        },
        "id": "aS8tUr6riIH-",
        "outputId": "2747049a-af4f-4042-8a3b-7f731a768b48"
      },
      "source": [
        "!nvidia-smi"
      ],
      "execution_count": 6,
      "outputs": [
        {
          "output_type": "stream",
          "name": "stdout",
          "text": [
            "NVIDIA-SMI has failed because it couldn't communicate with the NVIDIA driver. Make sure that the latest NVIDIA driver is installed and running.\n",
            "\n"
          ]
        }
      ]
    },
    {
      "cell_type": "markdown",
      "metadata": {
        "id": "HmL3QnWyjmcZ"
      },
      "source": [
        "## CPU information\n",
        "\n",
        "Latency will vary greatly depending on the capabilities of your CPU. Some models are optimized for CPU architectures (MobileNet V3 for instance), while others were only designed for GPU and will thus yield poor latency when run on CPU."
      ]
    },
    {
      "cell_type": "code",
      "metadata": {
        "colab": {
          "base_uri": "https://localhost:8080/"
        },
        "id": "M1AL1-m8iVL8",
        "outputId": "2d2708d4-a037-40f7-f3f4-5761c9aa89ac"
      },
      "source": [
        "!lscpu"
      ],
      "execution_count": 7,
      "outputs": [
        {
          "output_type": "stream",
          "name": "stdout",
          "text": [
            "Architecture:        x86_64\n",
            "CPU op-mode(s):      32-bit, 64-bit\n",
            "Byte Order:          Little Endian\n",
            "CPU(s):              2\n",
            "On-line CPU(s) list: 0,1\n",
            "Thread(s) per core:  2\n",
            "Core(s) per socket:  1\n",
            "Socket(s):           1\n",
            "NUMA node(s):        1\n",
            "Vendor ID:           AuthenticAMD\n",
            "CPU family:          23\n",
            "Model:               49\n",
            "Model name:          AMD EPYC 7B12\n",
            "Stepping:            0\n",
            "CPU MHz:             2249.998\n",
            "BogoMIPS:            4499.99\n",
            "Hypervisor vendor:   KVM\n",
            "Virtualization type: full\n",
            "L1d cache:           32K\n",
            "L1i cache:           32K\n",
            "L2 cache:            512K\n",
            "L3 cache:            16384K\n",
            "NUMA node0 CPU(s):   0,1\n",
            "Flags:               fpu vme de pse tsc msr pae mce cx8 apic sep mtrr pge mca cmov pat pse36 clflush mmx fxsr sse sse2 ht syscall nx mmxext fxsr_opt pdpe1gb rdtscp lm constant_tsc rep_good nopl nonstop_tsc cpuid extd_apicid tsc_known_freq pni pclmulqdq ssse3 fma cx16 sse4_1 sse4_2 movbe popcnt aes xsave avx f16c rdrand hypervisor lahf_lm cmp_legacy cr8_legacy abm sse4a misalignsse 3dnowprefetch osvw topoext ssbd ibrs ibpb stibp vmmcall fsgsbase tsc_adjust bmi1 avx2 smep bmi2 rdseed adx smap clflushopt clwb sha_ni xsaveopt xsavec xgetbv1 clzero xsaveerptr arat npt nrip_save umip rdpid\n"
          ]
        }
      ]
    },
    {
      "cell_type": "markdown",
      "metadata": {
        "id": "ZdEfyHTehb2e"
      },
      "source": [
        "# Usage\n",
        "\n",
        "The latency evaluation script provides several options for you to play with: change the input size, the architecture or the CAM method to better reflect your use case."
      ]
    },
    {
      "cell_type": "code",
      "metadata": {
        "colab": {
          "base_uri": "https://localhost:8080/"
        },
        "id": "3hb59oT6ks-Y",
        "outputId": "ddf2f31a-d325-4455-d1e8-32db3c66409e"
      },
      "source": [
        "!cd torch-cam/ && python scripts/eval_latency.py --help"
      ],
      "execution_count": 11,
      "outputs": [
        {
          "output_type": "stream",
          "name": "stdout",
          "text": [
            "usage: eval_latency.py [-h] [--arch ARCH] [--size SIZE]\n",
            "                       [--class-idx CLASS_IDX] [--device DEVICE] [--it IT]\n",
            "                       method\n",
            "\n",
            "CAM method latency benchmark\n",
            "\n",
            "positional arguments:\n",
            "  method                CAM method to use\n",
            "\n",
            "optional arguments:\n",
            "  -h, --help            show this help message and exit\n",
            "  --arch ARCH           Name of the torchvision architecture (default:\n",
            "                        resnet18)\n",
            "  --size SIZE           The image input size (default: 224)\n",
            "  --class-idx CLASS_IDX\n",
            "                        Index of the class to inspect (default: 232)\n",
            "  --device DEVICE       Default device to perform computation on (default:\n",
            "                        None)\n",
            "  --it IT               Number of iterations to run (default: 100)\n"
          ]
        }
      ]
    },
    {
      "cell_type": "markdown",
      "metadata": {
        "id": "e5DqgXWQkHyq"
      },
      "source": [
        "## Architecture designed for GPU\n",
        "\n",
        "Let's benchmark the latency of CAM methods with the popular ResNet architecture"
      ]
    },
    {
      "cell_type": "code",
      "metadata": {
        "colab": {
          "base_uri": "https://localhost:8080/"
        },
        "id": "1BPl5sMRkcYa",
        "outputId": "6a9137e4-4370-4de7-9e81-c4dcc36767e7"
      },
      "source": [
        "!cd torch-cam/ && python scripts/eval_latency.py SmoothGradCAMpp --arch resnet18"
      ],
      "execution_count": 9,
      "outputs": [
        {
          "output_type": "stream",
          "name": "stdout",
          "text": [
            "Downloading: \"https://download.pytorch.org/models/resnet18-f37072fd.pth\" to /root/.cache/torch/hub/checkpoints/resnet18-f37072fd.pth\n",
            "100% 44.7M/44.7M [00:00<00:00, 85.9MB/s]\n",
            "/usr/local/lib/python3.7/dist-packages/torch/nn/functional.py:718: UserWarning: Named tensors and all their associated APIs are an experimental feature and subject to change. Please do not use them for anything important until they are released as stable. (Triggered internally at  /pytorch/c10/core/TensorImpl.h:1156.)\n",
            "  return torch.max_pool2d(input, kernel_size, stride, padding, dilation, ceil_mode)\n",
            "WARNING:root:no value was provided for `target_layer`, thus set to 'layer4'.\n",
            "SmoothGradCAMpp w/ resnet18 (100 runs on (224, 224) inputs)\n",
            "mean 1143.17ms, std 36.79ms\n"
          ]
        }
      ]
    },
    {
      "cell_type": "code",
      "metadata": {
        "colab": {
          "base_uri": "https://localhost:8080/"
        },
        "id": "7FPUlYL0kcaq",
        "outputId": "c07fd74c-bc7d-490f-ddc9-1fc230cdc2e6"
      },
      "source": [
        "!cd torch-cam/ && python scripts/eval_latency.py LayerCAM --arch resnet18"
      ],
      "execution_count": 10,
      "outputs": [
        {
          "output_type": "stream",
          "name": "stdout",
          "text": [
            "/usr/local/lib/python3.7/dist-packages/torch/nn/functional.py:718: UserWarning: Named tensors and all their associated APIs are an experimental feature and subject to change. Please do not use them for anything important until they are released as stable. (Triggered internally at  /pytorch/c10/core/TensorImpl.h:1156.)\n",
            "  return torch.max_pool2d(input, kernel_size, stride, padding, dilation, ceil_mode)\n",
            "WARNING:root:no value was provided for `target_layer`, thus set to 'layer4'.\n",
            "LayerCAM w/ resnet18 (100 runs on (224, 224) inputs)\n",
            "mean 189.64ms, std 8.82ms\n"
          ]
        }
      ]
    },
    {
      "cell_type": "markdown",
      "metadata": {
        "id": "DCzAbMNQkL-q"
      },
      "source": [
        "## Architecture designed for CPU\n",
        "\n",
        "As mentioned, we'll consider MobileNet V3 here."
      ]
    },
    {
      "cell_type": "code",
      "metadata": {
        "colab": {
          "base_uri": "https://localhost:8080/"
        },
        "id": "axInvW2thdgO",
        "outputId": "f5e3db0e-4c96-47f7-cf53-9646494ab674"
      },
      "source": [
        "!cd torch-cam/ && python scripts/eval_latency.py SmoothGradCAMpp --arch mobilenet_v3_large"
      ],
      "execution_count": 5,
      "outputs": [
        {
          "output_type": "stream",
          "name": "stdout",
          "text": [
            "Downloading: \"https://download.pytorch.org/models/mobilenet_v3_large-8738ca79.pth\" to /root/.cache/torch/hub/checkpoints/mobilenet_v3_large-8738ca79.pth\n",
            "100% 21.1M/21.1M [00:00<00:00, 71.5MB/s]\n",
            "WARNING:root:no value was provided for `target_layer`, thus set to 'features.4.block.1'.\n",
            "SmoothGradCAMpp w/ mobilenet_v3_large (100 runs on (224, 224) inputs)\n",
            "mean 762.18ms, std 26.95ms\n"
          ]
        }
      ]
    },
    {
      "cell_type": "code",
      "metadata": {
        "colab": {
          "base_uri": "https://localhost:8080/"
        },
        "id": "uY_02W0ch_F_",
        "outputId": "f47c70c2-d0fc-4b83-d83a-aa978904c1b6"
      },
      "source": [
        "!cd torch-cam/ && python scripts/eval_latency.py LayerCAM --arch mobilenet_v3_large"
      ],
      "execution_count": 8,
      "outputs": [
        {
          "output_type": "stream",
          "name": "stdout",
          "text": [
            "WARNING:root:no value was provided for `target_layer`, thus set to 'features.4.block.1'.\n",
            "LayerCAM w/ mobilenet_v3_large (100 runs on (224, 224) inputs)\n",
            "mean 148.76ms, std 7.86ms\n"
          ]
        }
      ]
    }
  ]
}